{
 "cells": [
  {
   "cell_type": "code",
   "execution_count": 1,
   "metadata": {},
   "outputs": [],
   "source": [
    "\"\"\"\n",
    "This project was developed by Peter Chen, Rocky Duan, Pieter Abbeel for the Berkeley Deep RL Bootcamp, August 2017.\n",
    "Bootcamp website with slides and lecture videos: https://sites.google.com/view/deep-rl-bootcamp/.\n",
    "\n",
    "Code adapted from Stanford CS231N materials: http://cs231n.stanford.edu/\n",
    "\"\"\"\n",
    "\n",
    "\n",
    "# note to properly run this lab, you should execute all code blocks sequentially\n",
    "import chainer\n",
    "import chainer.functions as F\n",
    "import chainer.links as L\n",
    "from chainer import training\n",
    "from chainer.training import extensions\n",
    "\n",
    "from collections import namedtuple, defaultdict, deque\n",
    "\n",
    "import numpy as np\n",
    "\n",
    "%matplotlib inline\n",
    "\n",
    "import matplotlib\n",
    "import matplotlib.pyplot as plt"
   ]
  },
  {
   "cell_type": "markdown",
   "metadata": {},
   "source": [
    "## Introduction to Chainer\n",
    "\n",
    "Chainer can be understood as Numpy plus the ability to record the computation graph of numerical operations to enable Automatic Differentiation. (Chainer actually also offers many other things; for example, a Numpy equivalent library that runs on GPU, but we will ignore them for now)"
   ]
  },
  {
   "cell_type": "markdown",
   "metadata": {},
   "source": [
    "Let's illustrate how Chainer works by a simple 1D regression task.\n",
    "\n",
    "Suppose we have observations from the following model $y = w x + b + \\epsilon$ where $\\epsilon \\sim \\mathcal{N}(0, 0.1)$ and the task is to estimate the linear model parameters $w, b$ from data."
   ]
  },
  {
   "cell_type": "code",
   "execution_count": 2,
   "metadata": {},
   "outputs": [
    {
     "data": {
      "image/png": "[encoded data removed]",
      "text/plain": [
       "<matplotlib.figure.Figure at 0x7efca4b78f28>"
      ]
     },
     "metadata": {},
     "output_type": "display_data"
    }
   ],
   "source": [
    "# first generate some observations\n",
    "true_a = 1.3\n",
    "true_b = 0.4\n",
    "data_x = (np.arange(100) / 99.0 - .5).astype(np.float32) # Chainer assumes all the cpu computation is done in float32\n",
    "data_y = (data_x * true_a + true_b + np.random.randn(*data_x.shape) * 0.1).astype(np.float32)\n",
    "_ = plt.scatter(data_x, data_y, c='b')"
   ]
  },
  {
   "cell_type": "markdown",
   "metadata": {},
   "source": [
    "Chainer provides an abstraction called `Link` that describe some computation and keeps track of parameters for it. For instance, a `Linear` link describes a linear map on input and keeps track of `w` and bias `b`."
   ]
  },
  {
   "cell_type": "code",
   "execution_count": 3,
   "metadata": {},
   "outputs": [
    {
     "name": "stdout",
     "output_type": "stream",
     "text": [
      "w: variable W([[-1.05859244]])\n",
      "b: variable b([ 0.])\n",
      "Operations on chainer.Variable: variable([[ 121.94140625]]), type: <class 'chainer.variable.Variable'>\n",
      "numpy arrays: [[-1.05859244]] [[ 121.94140625]]\n"
     ]
    }
   ],
   "source": [
    "model = L.Linear(in_size=1, out_size=1) # input is 1D data and output is also 1D data\n",
    "\n",
    "# Chainer will randomly initialize `w` and `b` for us.\n",
    "# we can take a look at their values\n",
    "print(\"w:\", model.W)\n",
    "print(\"b:\", model.b)\n",
    "\n",
    "# model.W and model.b have type `chainer.Variable`, \n",
    "#   which is a wrapper around Numpy array\n",
    "assert isinstance(model.W, chainer.Variable)\n",
    "\n",
    "# operations that involve `chainer.Variable` will produce\n",
    "#   `chainer.Variable` and this records the computation graph\n",
    "var_result = model.W + 123 # some random computation\n",
    "print(\"Operations on chainer.Variable: %s, type: %s\" % (var_result, type(var_result)))\n",
    "\n",
    "# the underlying numpy array can be accessed by `data` attribute\n",
    "print(\"numpy arrays:\", model.W.data, var_result.data)"
   ]
  },
  {
   "cell_type": "code",
   "execution_count": 4,
   "metadata": {},
   "outputs": [
    {
     "data": {
      "image/png": "[encoded data removed]",
      "text/plain": [
       "<matplotlib.figure.Figure at 0x7efc99bd1940>"
      ]
     },
     "metadata": {},
     "output_type": "display_data"
    }
   ],
   "source": [
    "# A chainer link is a callable object. calling it performs the\n",
    "#   forward computation. (in this case, it performs Wx + b)\n",
    "model_y = model(data_x[:, None]) # chainer's link usually assumes input is [Batch Size, Input Dimension]\n",
    "# `model_y` is a chainer variable so we use `.data` to access its numpy array for plotting\n",
    "\n",
    "# we can plot the model's current fit in red. it should be terrible because we haven't trained it yet\n",
    "_ = plt.plot(data_x, model_y.data[:,0], c='r')\n",
    "_ = plt.scatter(data_x, data_y, c='b')\n",
    "_ = plt.title(\"Initial model\")"
   ]
  },
  {
   "cell_type": "code",
   "execution_count": 5,
   "metadata": {},
   "outputs": [
    {
     "name": "stdout",
     "output_type": "stream",
     "text": [
      "loss variable(0.635888397693634)\n",
      "dloss/dW [[-0.40067247]]\n"
     ]
    }
   ],
   "source": [
    "# now let's walk through how to perform forward computation\n",
    "#  and use AD to get gradients\n",
    "\n",
    "# first we clear the gradients that are stored in the model\n",
    "model.cleargrads()\n",
    "# as we have seen we can perform forward computation by calling the link\n",
    "model_y = model(data_x[:, None])\n",
    "\n",
    "# remember that `model_y` is a chainer variable. to operate on chainer variable\n",
    "#    we will use functions from chainer.functions to operate on those objects.\n",
    "loss = F.mean(F.square(model_y - data_y[:, None]))\n",
    "# `loss` is a scalar chainer variable\n",
    "assert isinstance(loss, chainer.Variable)\n",
    "print(\"loss\", loss)\n",
    "# calculating gradients d loss /d params is as simple as\n",
    "loss.backward()\n",
    "\n",
    "# we can inspect the gradient of loss with respect to W\n",
    "print(\"dloss/dW\", model.W.grad)"
   ]
  },
  {
   "cell_type": "markdown",
   "metadata": {},
   "source": [
    "Now that we know how to calculate gradients, we can code up a simple loop to perform gradient descent to train this model:\n",
    "\n",
    "(Hint: if you run into weird problems, maybe the state has been messed up and you can try re-runing all the code blocks from the beginning)"
   ]
  },
  {
   "cell_type": "code",
   "execution_count": 12,
   "metadata": {},
   "outputs": [
    {
     "name": "stdout",
     "output_type": "stream",
     "text": [
      "Itr 0 loss: variable(0.16535215079784393)\n",
      "Itr 25 loss: variable(0.008074741810560226)\n",
      "Itr 50 loss: variable(0.007695845793932676)\n",
      "Itr 75 loss: variable(0.007536054123193026)\n"
     ]
    },
    {
     "data": {
      "image/png": "[encoded data removed]",
      "text/plain": [
       "<matplotlib.figure.Figure at 0x7efc99906390>"
      ]
     },
     "metadata": {},
     "output_type": "display_data"
    },
    {
     "data": {
      "image/png": "[encoded data removed]",
      "text/plain": [
       "<matplotlib.figure.Figure at 0x7efc99774908>"
      ]
     },
     "metadata": {},
     "output_type": "display_data"
    }
   ],
   "source": [
    "# now we can perform gradient descent to improve this model\n",
    "model = L.Linear(in_size=1, out_size=1)\n",
    "losses = []\n",
    "rate = 0.1\n",
    "for i in range(100):\n",
    "    model.cleargrads()\n",
    "    loss = F.mean(F.square(model(data_x[:, None]) - data_y[:, None]))\n",
    "    losses.append(float(loss.data))\n",
    "    loss.backward()\n",
    "    model.W.data[:] = model.W.data[:] -rate*model.W.grad[:]\n",
    "    model.b.data[:] = model.b.data[:] -rate*model.b.grad[:]\n",
    "    ## *** YOUR CODE HERE TO PERFORM GRADIENT DESCENT ***\n",
    "    ## Hint: you could access gradients with model.W.grad, model.b.grad\n",
    "    ## Hint2: you could write data into a parameter with model.W.data[:] = some_numpy_array\n",
    "    ## Hint3: if your model doesn't learn, remember to try different learning rates\n",
    "    if i % 25 == 0:\n",
    "        print(\"Itr\", i, \"loss:\", loss)\n",
    "plt.plot(np.array(losses))\n",
    "plt.title(\"Learning curve\")\n",
    "plt.figure()\n",
    "plt.plot(data_x, model(data_x[:, None])[:,0].data, c='r')\n",
    "plt.scatter(data_x, data_y, c='b')\n",
    "_ = plt.title(\"Trained model fitness\")\n"
   ]
  },
  {
   "cell_type": "markdown",
   "metadata": {},
   "source": [
    "## Train your first deep model\n",
    "\n",
    "Now we have learned the basics of Chainer. We can use it to train a deep model to classify MNIST digits. We will train a model on the MNIST dataset because the dataset is small.\n",
    "\n",
    "First we load the data and see what the images look like:"
   ]
  },
  {
   "cell_type": "code",
   "execution_count": 13,
   "metadata": {
    "scrolled": false
   },
   "outputs": [
    {
     "name": "stdout",
     "output_type": "stream",
     "text": [
      "Downloading from http://yann.lecun.com/exdb/mnist/train-images-idx3-ubyte.gz...\n",
      "Downloading from http://yann.lecun.com/exdb/mnist/train-labels-idx1-ubyte.gz...\n",
      "Downloading from http://yann.lecun.com/exdb/mnist/t10k-images-idx3-ubyte.gz...\n",
      "Downloading from http://yann.lecun.com/exdb/mnist/t10k-labels-idx1-ubyte.gz...\n",
      "train[i][0] is the ith image that's flattened, and has shape: (784,)\n",
      "train[i][1] is the ith image's label, such as: 3\n"
     ]
    },
    {
     "data": {
      "image/png": "[encoded data removed]",
      "text/plain": [
       "<matplotlib.figure.Figure at 0x7efc997f64e0>"
      ]
     },
     "metadata": {},
     "output_type": "display_data"
    },
    {
     "data": {
      "image/png": "[encoded data removed]",
      "text/plain": [
       "<matplotlib.figure.Figure at 0x7efc98dc8080>"
      ]
     },
     "metadata": {},
     "output_type": "display_data"
    }
   ],
   "source": [
    "train, test = chainer.datasets.get_mnist()\n",
    "# use train[data_point_index] to access data\n",
    "print(\"train[i][0] is the ith image that's flattened, and has shape:\", train[12][0].shape)\n",
    "print(\"train[i][1] is the ith image's label, such as:\", train[12][1])\n",
    "# here we visualize two of them\n",
    "plt.imshow(train[12][0].reshape([28, 28,]))\n",
    "plt.title(\"Label: %s\" % train[12][1])\n",
    "plt.figure()\n",
    "plt.imshow(train[42][0].reshape([28, 28,]))\n",
    "_ = plt.title(\"Label: %s\" % train[42][1])"
   ]
  },
  {
   "cell_type": "markdown",
   "metadata": {},
   "source": [
    "Next we will provide some boilerplate code and train a linear classifier as an example:"
   ]
  },
  {
   "cell_type": "code",
   "execution_count": 14,
   "metadata": {},
   "outputs": [
    {
     "name": "stdout",
     "output_type": "stream",
     "text": [
      "loss: 2.42785859108; accuracy: 0.125\n",
      "loss: 0.589288730621; accuracy: 0.855\n",
      "loss: 0.42687458694; accuracy: 0.895\n",
      "loss: 0.376703073978; accuracy: 0.9\n",
      "loss: 0.404553302824; accuracy: 0.885\n",
      "loss: 0.359955523908; accuracy: 0.9075\n",
      "loss: 0.293302808702; accuracy: 0.9175\n",
      "loss: 0.330982070863; accuracy: 0.8925\n",
      "loss: 0.357038037777; accuracy: 0.9025\n",
      "loss: 0.274682816565; accuracy: 0.925\n",
      "loss: 0.337036719322; accuracy: 0.9075\n",
      "loss: 0.403865958452; accuracy: 0.885\n",
      "loss: 0.327129469812; accuracy: 0.905\n",
      "loss: 0.226051070392; accuracy: 0.9425\n",
      "loss: 0.269058772326; accuracy: 0.92\n",
      "loss: 0.298052122891; accuracy: 0.9175\n",
      "loss: 0.383818162084; accuracy: 0.8975\n",
      "loss: 0.336126248837; accuracy: 0.915\n",
      "loss: 0.26198279947; accuracy: 0.9125\n",
      "loss: 0.228693713248; accuracy: 0.9375\n",
      "loss: 0.289234288335; accuracy: 0.9375\n",
      "loss: 0.253113838434; accuracy: 0.935\n",
      "loss: 0.322917479277; accuracy: 0.9\n",
      "loss: 0.324671910405; accuracy: 0.8875\n",
      "loss: 0.341444389522; accuracy: 0.9\n",
      "loss: 0.353752855361; accuracy: 0.905\n"
     ]
    }
   ],
   "source": [
    "def run(model, batchsize=16, num_epochs=2):\n",
    "    \n",
    "    optimizer = chainer.optimizers.Adam() # we will use chainer's Adam implementation instead of writing our own gradient based optimization\n",
    "    optimizer.setup(model)\n",
    "    \n",
    "    stats = defaultdict(lambda: deque(maxlen=25))\n",
    "    for epoch in range(num_epochs):\n",
    "        train_iter = chainer.iterators.SerialIterator(train, batchsize, repeat=False, shuffle=True)\n",
    "        test_iter = chainer.iterators.SerialIterator(test, batchsize, repeat=False, shuffle=False)\n",
    "        \n",
    "        for itr, batch in enumerate(train_iter):\n",
    "            xs = np.concatenate([datum[0][None, :] for datum in batch])\n",
    "            ys = np.array([datum[1] for datum in batch])\n",
    "\n",
    "            logits = model(xs)\n",
    "\n",
    "            loss = F.softmax_cross_entropy(logits, ys)\n",
    "            model.cleargrads()\n",
    "            loss.backward()\n",
    "            optimizer.update()\n",
    "            \n",
    "            # calculate stats\n",
    "            stats[\"loss\"].append(float(loss.data))\n",
    "            stats[\"accuracy\"].append(float((logits.data.argmax(1) == ys).sum() / batchsize))\n",
    "            if itr % 300 == 0:\n",
    "                print(\"; \".join(\"%s: %s\" % (k, np.mean(vs)) for k, vs in stats.items()))\n",
    "\n",
    "# try a simple linear model\n",
    "run(L.Linear(None, 10))"
   ]
  },
  {
   "cell_type": "markdown",
   "metadata": {},
   "source": [
    "Next we will try to improve performance by training an MLP instead. A partial implementation is provided for you to fill in:"
   ]
  },
  {
   "cell_type": "code",
   "execution_count": 15,
   "metadata": {},
   "outputs": [
    {
     "name": "stdout",
     "output_type": "stream",
     "text": [
      "loss: 2.35367250443; accuracy: 0.0\n",
      "loss: 0.332661694884; accuracy: 0.8975\n",
      "loss: 0.307651618719; accuracy: 0.8925\n",
      "loss: 0.251419095993; accuracy: 0.925\n",
      "loss: 0.112702178359; accuracy: 0.965\n",
      "loss: 0.15095520705; accuracy: 0.9575\n",
      "loss: 0.180543576181; accuracy: 0.95\n",
      "loss: 0.105780942142; accuracy: 0.9725\n",
      "loss: 0.129750841856; accuracy: 0.955\n",
      "loss: 0.0831973749399; accuracy: 0.98\n",
      "loss: 0.11494035542; accuracy: 0.9675\n",
      "loss: 0.126478920281; accuracy: 0.96\n",
      "loss: 0.10064670831; accuracy: 0.975\n",
      "loss: 0.0848251074553; accuracy: 0.975\n",
      "loss: 0.090838214457; accuracy: 0.9675\n",
      "loss: 0.132619936466; accuracy: 0.9575\n",
      "loss: 0.0734746181965; accuracy: 0.97\n",
      "loss: 0.0665694746375; accuracy: 0.9825\n",
      "loss: 0.0943930894136; accuracy: 0.97\n",
      "loss: 0.0877689644694; accuracy: 0.97\n",
      "loss: 0.0655619776249; accuracy: 0.9775\n",
      "loss: 0.0772920161486; accuracy: 0.97\n",
      "loss: 0.102633861303; accuracy: 0.97\n",
      "loss: 0.151875758767; accuracy: 0.955\n",
      "loss: 0.0818316614628; accuracy: 0.965\n",
      "loss: 0.111982247829; accuracy: 0.9775\n"
     ]
    }
   ],
   "source": [
    "class MLP(chainer.Chain):\n",
    "\n",
    "    def __init__(self, n_units, n_out):\n",
    "        super(MLP, self).__init__()\n",
    "        with self.init_scope():\n",
    "            # the size of the inputs to each layer will be inferred\n",
    "            self.l1 = L.Linear(None, n_units)  # n_in -> n_units\n",
    "            self.l2 = L.Linear(None, n_units)  # n_units -> n_units\n",
    "            self.l3 = L.Linear(None, n_out)  # n_units -> n_out\n",
    "\n",
    "    def __call__(self, x):\n",
    "        x = F.relu(self.l1(x))\n",
    "        x = F.relu(self.l2(x))\n",
    "        x = self.l3(x)\n",
    "        return x\n",
    "        # *** YOUR CODE HERE TO BUILD AN MLP W/ self.l1, self.l2, self.l3 ***\n",
    "        # \n",
    "        # Hint: you should make use of non-linearities / activation functions\n",
    "        #     https://docs.chainer.org/en/stable/reference/functions.html#activation-functions\n",
    "     #   raise NotImplementedError()\n",
    "run(MLP(200, 10))"
   ]
  },
  {
   "cell_type": "markdown",
   "metadata": {},
   "source": [
    "Next you should try to implement logging test loss and see if the model is overfitting."
   ]
  },
  {
   "cell_type": "code",
   "execution_count": 17,
   "metadata": {},
   "outputs": [
    {
     "name": "stdout",
     "output_type": "stream",
     "text": [
      "loss: 2.36003065109; accuracy: 0.0\n",
      "test_accuracy  0.1021\n",
      "loss: 0.300755636692; accuracy: 0.9175\n",
      "test_accuracy  0.8974\n",
      "loss: 0.212721573114; accuracy: 0.9375\n",
      "test_accuracy  0.9267\n",
      "loss: 0.269012281299; accuracy: 0.925\n",
      "test_accuracy  0.9385\n",
      "loss: 0.153351989686; accuracy: 0.96\n",
      "test_accuracy  0.9515\n",
      "loss: 0.175015648305; accuracy: 0.95\n",
      "test_accuracy  0.9547\n",
      "loss: 0.142584517002; accuracy: 0.9525\n",
      "test_accuracy  0.9551\n",
      "loss: 0.206952044666; accuracy: 0.94\n",
      "test_accuracy  0.9555\n",
      "loss: 0.139566110969; accuracy: 0.9475\n",
      "test_accuracy  0.9598\n",
      "loss: 0.10572103858; accuracy: 0.97\n",
      "test_accuracy  0.9589\n",
      "loss: 0.198533431888; accuracy: 0.93\n",
      "test_accuracy  0.9498\n",
      "loss: 0.0969037726521; accuracy: 0.9675\n",
      "test_accuracy  0.9652\n",
      "loss: 0.120105210543; accuracy: 0.95\n",
      "test_accuracy  0.968\n",
      "loss: 0.127432821691; accuracy: 0.96\n",
      "test_accuracy  0.9618\n",
      "loss: 0.0600213015079; accuracy: 0.975\n",
      "test_accuracy  0.9651\n",
      "loss: 0.101288369; accuracy: 0.9675\n",
      "test_accuracy  0.9696\n",
      "loss: 0.085202049613; accuracy: 0.97\n",
      "test_accuracy  0.9714\n",
      "loss: 0.0731849533319; accuracy: 0.9725\n",
      "test_accuracy  0.9668\n",
      "loss: 0.116541506052; accuracy: 0.96\n",
      "test_accuracy  0.9678\n",
      "loss: 0.0687273055315; accuracy: 0.9775\n",
      "test_accuracy  0.9699\n",
      "loss: 0.10695309341; accuracy: 0.975\n",
      "test_accuracy  0.9699\n",
      "loss: 0.0828189617395; accuracy: 0.9775\n",
      "test_accuracy  0.9703\n",
      "loss: 0.0866034078598; accuracy: 0.975\n",
      "test_accuracy  0.9751\n",
      "loss: 0.0521874114871; accuracy: 0.985\n",
      "test_accuracy  0.9711\n",
      "loss: 0.0759927946329; accuracy: 0.9675\n",
      "test_accuracy  0.972\n",
      "loss: 0.065894523263; accuracy: 0.9725\n",
      "test_accuracy  0.9677\n"
     ]
    }
   ],
   "source": [
    "def better_run(model, batchsize=16, num_epochs=2):\n",
    "\n",
    "    optimizer = chainer.optimizers.Adam() # we will use chainer's Adam implementation instead of writing our own gradient based optimization\n",
    "    optimizer.setup(model)\n",
    "    \n",
    "    stats = defaultdict(lambda: deque(maxlen=25))\n",
    "    for epoch in range(num_epochs):\n",
    "        train_iter = chainer.iterators.SerialIterator(train, batchsize, repeat=False, shuffle=True)\n",
    "        test_iter = chainer.iterators.SerialIterator(test, batchsize, repeat=False, shuffle=True)\n",
    "        for itr, batch in enumerate(train_iter):\n",
    "            xs = np.concatenate([datum[0][None, :] for datum in batch])\n",
    "            ys = np.array([datum[1] for datum in batch])\n",
    "\n",
    "            logits = model(xs)\n",
    "\n",
    "            loss = F.softmax_cross_entropy(logits, ys)\n",
    "            model.cleargrads()\n",
    "            loss.backward()\n",
    "            optimizer.update()\n",
    "            \n",
    "            # calculate stats\n",
    "            stats[\"loss\"].append(float(loss.data))\n",
    "            stats[\"accuracy\"].append(float((logits.data.argmax(1) == ys).sum() / batchsize))\n",
    "            test_acc = []\n",
    "            if itr % 300 == 0:\n",
    "                test_iter = chainer.iterators.SerialIterator(test, batchsize, repeat=False, shuffle=False)\n",
    "                for t_itr, t_batch in enumerate(test_iter):\n",
    "                    xs = np.concatenate([datum[0][None, :] for datum in t_batch])\n",
    "                    ys = np.array([datum[1] for datum in t_batch])\n",
    "                    t_logits = model(xs)\n",
    "                    test_acc.append(float((t_logits.data.argmax(1)==ys).sum()/ batchsize))\n",
    "                    \n",
    "                # *** YOUR CODE implement logging of stats on test set ***\n",
    "                print(\"; \".join(\"%s: %s\" % (k, np.mean(vs)) for k, vs in stats.items()))\n",
    "                print(\"test_accuracy \", np.mean(test_acc))\n",
    "\n",
    "better_run(MLP(200, 10))"
   ]
  },
  {
   "cell_type": "markdown",
   "metadata": {},
   "source": [
    "Try different variants!\n",
    "\n",
    "- Does using a ConvNet improve performance (reduce overfitting?)\n",
    "- Try changing the learning rate and observe the effect\n",
    "- Does the model train if you give it correlated gradients? (consecutively sample many batches of \"1\", then many batches of \"2\", ... etc"
   ]
  }
 ],
 "metadata": {
  "kernelspec": {
   "display_name": "Python 3",
   "language": "python",
   "name": "python3"
  },
  "language_info": {
   "codemirror_mode": {
    "name": "ipython",
    "version": 3
   },
   "file_extension": ".py",
   "mimetype": "text/x-python",
   "name": "python",
   "nbconvert_exporter": "python",
   "pygments_lexer": "ipython3",
   "version": "3.5.3"
  }
 },
 "nbformat": 4,
 "nbformat_minor": 1
}
